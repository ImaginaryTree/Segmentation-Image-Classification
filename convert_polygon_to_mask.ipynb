{
 "cells": [
  {
   "cell_type": "code",
   "execution_count": null,
   "metadata": {},
   "outputs": [],
   "source": [
    "# conda create -n pcd -c conda-forge python=3.9 numpy opencv scikit-image scipy pillow matplotlib jupyter"
   ]
  },
  {
   "cell_type": "code",
   "execution_count": 7,
   "metadata": {},
   "outputs": [],
   "source": [
    "import numpy as np\n",
    "import cv2\n",
    "import json\n",
    "import os "
   ]
  },
  {
   "cell_type": "code",
   "execution_count": 8,
   "metadata": {},
   "outputs": [],
   "source": [
    "JSON_PATH = 'project-1-at-2024-01-03-19-30-4bfee4ce.json'\n",
    "IMAGES_PATH = 'images'\n",
    "LABELS_PATH = 'labels6'\n",
    "LABELS_COLOR_PATH = 'labels6_color'\n",
    "\n",
    "# TODO buat list di text aja\n",
    "CAT = 1\n",
    "DOG = 2\n",
    "\n",
    "\n",
    "CAT_COLOR = (255,0,0)\n",
    "DOG_COLOR = (0,255,0)\n",
    "\n",
    "\n",
    "\n",
    "if not os.path.exists(LABELS_PATH): \n",
    "    os.makedirs(LABELS_PATH) \n",
    "\n",
    "if not os.path.exists(LABELS_COLOR_PATH): \n",
    "    os.makedirs(LABELS_COLOR_PATH) "
   ]
  },
  {
   "cell_type": "code",
   "execution_count": 9,
   "metadata": {},
   "outputs": [
    {
     "name": "stdout",
     "output_type": "stream",
     "text": [
      "e2c73234-0.png\n"
     ]
    },
    {
     "ename": "AttributeError",
     "evalue": "'NoneType' object has no attribute 'shape'",
     "output_type": "error",
     "traceback": [
      "\u001b[1;31m---------------------------------------------------------------------------\u001b[0m",
      "\u001b[1;31mAttributeError\u001b[0m                            Traceback (most recent call last)",
      "\u001b[1;32m~\\AppData\\Local\\Temp/ipykernel_25476/2321336833.py\u001b[0m in \u001b[0;36m<module>\u001b[1;34m\u001b[0m\n\u001b[0;32m      6\u001b[0m     \u001b[0mprint\u001b[0m\u001b[1;33m(\u001b[0m\u001b[0mfile_upload\u001b[0m\u001b[1;33m)\u001b[0m\u001b[1;33m\u001b[0m\u001b[1;33m\u001b[0m\u001b[0m\n\u001b[0;32m      7\u001b[0m     \u001b[0mimg\u001b[0m \u001b[1;33m=\u001b[0m \u001b[0mcv2\u001b[0m\u001b[1;33m.\u001b[0m\u001b[0mimread\u001b[0m\u001b[1;33m(\u001b[0m\u001b[0mIMAGES_PATH\u001b[0m\u001b[1;33m+\u001b[0m\u001b[1;34m'\\\\'\u001b[0m\u001b[1;33m+\u001b[0m\u001b[0mfile_upload\u001b[0m\u001b[1;33m)\u001b[0m\u001b[1;33m\u001b[0m\u001b[1;33m\u001b[0m\u001b[0m\n\u001b[1;32m----> 8\u001b[1;33m     \u001b[0mheight\u001b[0m\u001b[1;33m,\u001b[0m \u001b[0mwidth\u001b[0m\u001b[1;33m,\u001b[0m \u001b[0mchannels\u001b[0m \u001b[1;33m=\u001b[0m \u001b[0mimg\u001b[0m\u001b[1;33m.\u001b[0m\u001b[0mshape\u001b[0m\u001b[1;33m\u001b[0m\u001b[1;33m\u001b[0m\u001b[0m\n\u001b[0m\u001b[0;32m      9\u001b[0m     \u001b[0mlabel_image\u001b[0m  \u001b[1;33m=\u001b[0m \u001b[0mnp\u001b[0m\u001b[1;33m.\u001b[0m\u001b[0mzeros\u001b[0m\u001b[1;33m(\u001b[0m\u001b[1;33m[\u001b[0m\u001b[0mheight\u001b[0m\u001b[1;33m,\u001b[0m \u001b[0mwidth\u001b[0m\u001b[1;33m]\u001b[0m\u001b[1;33m,\u001b[0m \u001b[0mdtype\u001b[0m\u001b[1;33m=\u001b[0m\u001b[0mnp\u001b[0m\u001b[1;33m.\u001b[0m\u001b[0muint8\u001b[0m\u001b[1;33m)\u001b[0m\u001b[1;33m\u001b[0m\u001b[1;33m\u001b[0m\u001b[0m\n\u001b[0;32m     10\u001b[0m     \u001b[0mlabel_color\u001b[0m  \u001b[1;33m=\u001b[0m \u001b[0mnp\u001b[0m\u001b[1;33m.\u001b[0m\u001b[0mzeros\u001b[0m\u001b[1;33m(\u001b[0m\u001b[1;33m[\u001b[0m\u001b[0mheight\u001b[0m\u001b[1;33m,\u001b[0m \u001b[0mwidth\u001b[0m\u001b[1;33m,\u001b[0m \u001b[1;36m3\u001b[0m\u001b[1;33m]\u001b[0m\u001b[1;33m,\u001b[0m \u001b[0mdtype\u001b[0m\u001b[1;33m=\u001b[0m\u001b[0mnp\u001b[0m\u001b[1;33m.\u001b[0m\u001b[0muint8\u001b[0m\u001b[1;33m)\u001b[0m\u001b[1;33m\u001b[0m\u001b[1;33m\u001b[0m\u001b[0m\n",
      "\u001b[1;31mAttributeError\u001b[0m: 'NoneType' object has no attribute 'shape'"
     ]
    }
   ],
   "source": [
    "f = open(JSON_PATH)\n",
    "data = json.load(f)\n",
    "for dt in data:\n",
    "    file_upload = dt['file_upload']\n",
    "    print(file_upload)\n",
    "    img = cv2.imread(IMAGES_PATH+'\\\\'+file_upload)\n",
    "    height, width, channels = img.shape\n",
    "    label_image  = np.zeros([height, width], dtype=np.uint8)\n",
    "    label_color  = np.zeros([height, width, 3], dtype=np.uint8)\n",
    "\n",
    "    for ano in dt['annotations']:\n",
    "        for res in ano['result']:\n",
    "            ori_height = res['original_height']\n",
    "            ori_width = res['original_width']\n",
    "            if height!=ori_height and width!=ori_width:\n",
    "              raise Exception(\"Size not match!\")\n",
    "\n",
    "            label = res['value']['polygonlabels'][0]\n",
    "            labelnum = 0\n",
    "            labelcol = (255,255,255)\n",
    "            if label=='Cat':\n",
    "                labelnum = CAT\n",
    "                labelcol = CAT_COLOR\n",
    "            elif label=='Dog':\n",
    "                labelnum = DOG\n",
    "                labelcol = DOG_COLOR\n",
    "\n",
    "            print(label)\n",
    "\n",
    "            points = res['value']['points']\n",
    "            points_abs = [\n",
    "                    (int(x / 100 * width), int(y / 100 * height)) for x, y in points\n",
    "                ]\n",
    "            points_np = np.array(points_abs)\n",
    "            cv2.fillPoly(label_image, pts = [points_np], color =labelnum)\n",
    "            cv2.fillPoly(label_color, pts = [points_np], color =labelcol)\n",
    "    \n",
    "    file_upload = file_upload.replace(\".jpg\", \".png\")\n",
    "    cv2.imwrite(LABELS_PATH+'\\\\'+file_upload, label_image) \n",
    "    cv2.imwrite(LABELS_COLOR_PATH+'\\\\'+file_upload, label_color) \n",
    "\n",
    "\n",
    "        "
   ]
  },
  {
   "cell_type": "code",
   "execution_count": null,
   "metadata": {},
   "outputs": [],
   "source": []
  }
 ],
 "metadata": {
  "kernelspec": {
   "display_name": "labelimg",
   "language": "python",
   "name": "python3"
  },
  "language_info": {
   "codemirror_mode": {
    "name": "ipython",
    "version": 3
   },
   "file_extension": ".py",
   "mimetype": "text/x-python",
   "name": "python",
   "nbconvert_exporter": "python",
   "pygments_lexer": "ipython3",
   "version": "3.9.0"
  }
 },
 "nbformat": 4,
 "nbformat_minor": 2
}
